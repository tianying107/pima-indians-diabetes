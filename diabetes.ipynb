{
 "cells": [
  {
   "cell_type": "markdown",
   "metadata": {},
   "source": [
    "## The purpose of this project is to analysis the diabetes dataset in terms of statistical, data visualization, feature selection and diabetes classification (binary).\n",
    "The dataset is downloaded from the UCI Machine Learning respository. It describes the patient medical record data for Pima Indians and whether they had an onset of diabetes within five years."
   ]
  },
  {
   "cell_type": "code",
   "execution_count": 1,
   "metadata": {},
   "outputs": [],
   "source": [
    "import pandas as pd\n",
    "import model as md\n",
    "import matplotlib.pyplot as plt\n",
    "import tensorflow as tf\n",
    "import numpy as np\n",
    "from sklearn.model_selection import train_test_split"
   ]
  },
  {
   "cell_type": "markdown",
   "metadata": {},
   "source": [
    "## Import data\n",
    "Dataset source: https://raw.githubusercontent.com/jbrownlee/Datasets/master/pima-indians-diabetes.csv\n",
    "\n",
    "Dataset deails: https://raw.githubusercontent.com/jbrownlee/Datasets/master/pima-indians-diabetes.names"
   ]
  },
  {
   "cell_type": "code",
   "execution_count": 2,
   "metadata": {},
   "outputs": [],
   "source": [
    "df = pd.read_csv('pima-indians-diabetes.data.csv', header=None)\n",
    "\n",
    "X_df = df.iloc[:,0:8]\n",
    "\n",
    "y_df = df.iloc[:,8]\n",
    "\n",
    "X = X_df.to_numpy()\n",
    "y = y_df.to_numpy()"
   ]
  },
  {
   "cell_type": "code",
   "execution_count": 3,
   "metadata": {},
   "outputs": [],
   "source": [
    "X_train, X_test, y_train, y_test = train_test_split(X,y,test_size=0.2,random_state=42)"
   ]
  },
  {
   "cell_type": "code",
   "execution_count": 4,
   "metadata": {},
   "outputs": [
    {
     "name": "stdout",
     "output_type": "stream",
     "text": [
      "Patients with onset diabetes: 268\n",
      "Paitents without diabetes: 500\n"
     ]
    }
   ],
   "source": [
    "print('Patients with onset diabetes: {}'.format(y_df[y_df==1].count()))\n",
    "print('Paitents without diabetes: {}'.format(y_df[y_df==0].count()))      "
   ]
  },
  {
   "cell_type": "markdown",
   "metadata": {},
   "source": [
    "## Statistical analysis"
   ]
  },
  {
   "cell_type": "code",
   "execution_count": 16,
   "metadata": {},
   "outputs": [],
   "source": [
    "from scipy.stats import ttest_ind"
   ]
  },
  {
   "cell_type": "code",
   "execution_count": 17,
   "metadata": {},
   "outputs": [
    {
     "name": "stdout",
     "output_type": "stream",
     "text": [
      "mean value for col 0 is 3.2980, 4.8657\n",
      "p-value for col 0 is 0.0000\n",
      "mean value for col 1 is 109.9800, 141.2575\n",
      "p-value for col 1 is 0.0000\n",
      "mean value for col 2 is 68.1840, 70.8246\n",
      "p-value for col 2 is 0.0715\n",
      "mean value for col 3 is 19.6640, 22.1642\n",
      "p-value for col 3 is 0.0383\n",
      "mean value for col 4 is 68.7920, 100.3358\n",
      "p-value for col 4 is 0.0003\n",
      "mean value for col 5 is 30.3042, 35.1425\n",
      "p-value for col 5 is 0.0000\n",
      "mean value for col 6 is 0.4297, 0.5505\n",
      "p-value for col 6 is 0.0000\n",
      "mean value for col 7 is 31.1900, 37.0672\n",
      "p-value for col 7 is 0.0000\n"
     ]
    }
   ],
   "source": [
    "for i in range(X_df.shape[1]):\n",
    "    m0=df[y_df==0].iloc[:, i].mean()\n",
    "    m1=df[y_df==1].iloc[:, i].mean()\n",
    "    print('mean value for col {} is {:.4f}, {:.4f}'.format(i,m0,m1))\n",
    "    t,p=ttest_ind(df[y_df==0].iloc[:, i], df[y_df==1].iloc[:, i])\n",
    "    print('p-value for col {} is {:.4f}'.format(i,p))"
   ]
  },
  {
   "cell_type": "code",
   "execution_count": 18,
   "metadata": {},
   "outputs": [
    {
     "data": {
      "text/html": [
       "<div>\n",
       "<style scoped>\n",
       "    .dataframe tbody tr th:only-of-type {\n",
       "        vertical-align: middle;\n",
       "    }\n",
       "\n",
       "    .dataframe tbody tr th {\n",
       "        vertical-align: top;\n",
       "    }\n",
       "\n",
       "    .dataframe thead th {\n",
       "        text-align: right;\n",
       "    }\n",
       "</style>\n",
       "<table border=\"1\" class=\"dataframe\">\n",
       "  <thead>\n",
       "    <tr style=\"text-align: right;\">\n",
       "      <th></th>\n",
       "      <th>0</th>\n",
       "      <th>1</th>\n",
       "      <th>2</th>\n",
       "      <th>3</th>\n",
       "      <th>4</th>\n",
       "      <th>5</th>\n",
       "      <th>6</th>\n",
       "      <th>7</th>\n",
       "      <th>8</th>\n",
       "    </tr>\n",
       "  </thead>\n",
       "  <tbody>\n",
       "    <tr>\n",
       "      <th>0</th>\n",
       "      <td>1.000000</td>\n",
       "      <td>0.129459</td>\n",
       "      <td>0.141282</td>\n",
       "      <td>-0.081672</td>\n",
       "      <td>-0.073535</td>\n",
       "      <td>0.017683</td>\n",
       "      <td>-0.033523</td>\n",
       "      <td>0.544341</td>\n",
       "      <td>0.221898</td>\n",
       "    </tr>\n",
       "    <tr>\n",
       "      <th>1</th>\n",
       "      <td>0.129459</td>\n",
       "      <td>1.000000</td>\n",
       "      <td>0.152590</td>\n",
       "      <td>0.057328</td>\n",
       "      <td>0.331357</td>\n",
       "      <td>0.221071</td>\n",
       "      <td>0.137337</td>\n",
       "      <td>0.263514</td>\n",
       "      <td>0.466581</td>\n",
       "    </tr>\n",
       "    <tr>\n",
       "      <th>2</th>\n",
       "      <td>0.141282</td>\n",
       "      <td>0.152590</td>\n",
       "      <td>1.000000</td>\n",
       "      <td>0.207371</td>\n",
       "      <td>0.088933</td>\n",
       "      <td>0.281805</td>\n",
       "      <td>0.041265</td>\n",
       "      <td>0.239528</td>\n",
       "      <td>0.065068</td>\n",
       "    </tr>\n",
       "    <tr>\n",
       "      <th>3</th>\n",
       "      <td>-0.081672</td>\n",
       "      <td>0.057328</td>\n",
       "      <td>0.207371</td>\n",
       "      <td>1.000000</td>\n",
       "      <td>0.436783</td>\n",
       "      <td>0.392573</td>\n",
       "      <td>0.183928</td>\n",
       "      <td>-0.113970</td>\n",
       "      <td>0.074752</td>\n",
       "    </tr>\n",
       "    <tr>\n",
       "      <th>4</th>\n",
       "      <td>-0.073535</td>\n",
       "      <td>0.331357</td>\n",
       "      <td>0.088933</td>\n",
       "      <td>0.436783</td>\n",
       "      <td>1.000000</td>\n",
       "      <td>0.197859</td>\n",
       "      <td>0.185071</td>\n",
       "      <td>-0.042163</td>\n",
       "      <td>0.130548</td>\n",
       "    </tr>\n",
       "    <tr>\n",
       "      <th>5</th>\n",
       "      <td>0.017683</td>\n",
       "      <td>0.221071</td>\n",
       "      <td>0.281805</td>\n",
       "      <td>0.392573</td>\n",
       "      <td>0.197859</td>\n",
       "      <td>1.000000</td>\n",
       "      <td>0.140647</td>\n",
       "      <td>0.036242</td>\n",
       "      <td>0.292695</td>\n",
       "    </tr>\n",
       "    <tr>\n",
       "      <th>6</th>\n",
       "      <td>-0.033523</td>\n",
       "      <td>0.137337</td>\n",
       "      <td>0.041265</td>\n",
       "      <td>0.183928</td>\n",
       "      <td>0.185071</td>\n",
       "      <td>0.140647</td>\n",
       "      <td>1.000000</td>\n",
       "      <td>0.033561</td>\n",
       "      <td>0.173844</td>\n",
       "    </tr>\n",
       "    <tr>\n",
       "      <th>7</th>\n",
       "      <td>0.544341</td>\n",
       "      <td>0.263514</td>\n",
       "      <td>0.239528</td>\n",
       "      <td>-0.113970</td>\n",
       "      <td>-0.042163</td>\n",
       "      <td>0.036242</td>\n",
       "      <td>0.033561</td>\n",
       "      <td>1.000000</td>\n",
       "      <td>0.238356</td>\n",
       "    </tr>\n",
       "    <tr>\n",
       "      <th>8</th>\n",
       "      <td>0.221898</td>\n",
       "      <td>0.466581</td>\n",
       "      <td>0.065068</td>\n",
       "      <td>0.074752</td>\n",
       "      <td>0.130548</td>\n",
       "      <td>0.292695</td>\n",
       "      <td>0.173844</td>\n",
       "      <td>0.238356</td>\n",
       "      <td>1.000000</td>\n",
       "    </tr>\n",
       "  </tbody>\n",
       "</table>\n",
       "</div>"
      ],
      "text/plain": [
       "          0         1         2         3         4         5         6  \\\n",
       "0  1.000000  0.129459  0.141282 -0.081672 -0.073535  0.017683 -0.033523   \n",
       "1  0.129459  1.000000  0.152590  0.057328  0.331357  0.221071  0.137337   \n",
       "2  0.141282  0.152590  1.000000  0.207371  0.088933  0.281805  0.041265   \n",
       "3 -0.081672  0.057328  0.207371  1.000000  0.436783  0.392573  0.183928   \n",
       "4 -0.073535  0.331357  0.088933  0.436783  1.000000  0.197859  0.185071   \n",
       "5  0.017683  0.221071  0.281805  0.392573  0.197859  1.000000  0.140647   \n",
       "6 -0.033523  0.137337  0.041265  0.183928  0.185071  0.140647  1.000000   \n",
       "7  0.544341  0.263514  0.239528 -0.113970 -0.042163  0.036242  0.033561   \n",
       "8  0.221898  0.466581  0.065068  0.074752  0.130548  0.292695  0.173844   \n",
       "\n",
       "          7         8  \n",
       "0  0.544341  0.221898  \n",
       "1  0.263514  0.466581  \n",
       "2  0.239528  0.065068  \n",
       "3 -0.113970  0.074752  \n",
       "4 -0.042163  0.130548  \n",
       "5  0.036242  0.292695  \n",
       "6  0.033561  0.173844  \n",
       "7  1.000000  0.238356  \n",
       "8  0.238356  1.000000  "
      ]
     },
     "execution_count": 18,
     "metadata": {},
     "output_type": "execute_result"
    }
   ],
   "source": [
    "df.corr(method='pearson')"
   ]
  },
  {
   "cell_type": "code",
   "execution_count": 19,
   "metadata": {},
   "outputs": [
    {
     "name": "stdout",
     "output_type": "stream",
     "text": [
      "The correlation coefficient between the features and class index: \n",
      "[0.22189815 0.4665814  0.06506836 0.07475223 0.13054795 0.29269466\n",
      " 0.17384407 0.23835598]\n"
     ]
    }
   ],
   "source": [
    "corr = np.array(df.corr(method='pearson'))\n",
    "print('The correlation coefficient between the features and class index: \\n{}'.format(corr[0:-1,-1]))"
   ]
  },
  {
   "cell_type": "markdown",
   "metadata": {},
   "source": [
    "## PCA"
   ]
  },
  {
   "cell_type": "code",
   "execution_count": 9,
   "metadata": {},
   "outputs": [],
   "source": [
    "from sklearn.decomposition import PCA\n",
    "from sklearn.preprocessing import StandardScaler"
   ]
  },
  {
   "cell_type": "code",
   "execution_count": 10,
   "metadata": {},
   "outputs": [],
   "source": [
    "x = StandardScaler().fit_transform(X)\n",
    "pca = PCA(n_components=2)\n",
    "principalComponents = pca.fit_transform(x)"
   ]
  },
  {
   "cell_type": "code",
   "execution_count": 11,
   "metadata": {},
   "outputs": [],
   "source": [
    "principalDf = pd.DataFrame(data = principalComponents\n",
    "             , columns = ['principal component 1', 'principal component 2'])\n",
    "targetDf = pd.DataFrame(data = y\n",
    "             , columns = ['target'])\n",
    "finalDf = pd.concat([principalDf, targetDf], axis = 1)"
   ]
  },
  {
   "cell_type": "code",
   "execution_count": 12,
   "metadata": {},
   "outputs": [
    {
     "data": {
      "image/png": "[encoded data removed]",
      "text/plain": [
       "<Figure size 576x576 with 1 Axes>"
      ]
     },
     "metadata": {},
     "output_type": "display_data"
    }
   ],
   "source": [
    "fig = plt.figure(figsize = (8,8))\n",
    "ax = fig.add_subplot(1,1,1) \n",
    "ax.set_xlabel('Principal Component 1', fontsize = 15)\n",
    "ax.set_ylabel('Principal Component 2', fontsize = 15)\n",
    "ax.set_title('2 component PCA', fontsize = 20)\n",
    "targets = [0, 1]\n",
    "colors = ['r', 'b']\n",
    "for target, color in zip(targets,colors):\n",
    "    indicesToKeep = finalDf['target'] == target\n",
    "    ax.scatter(finalDf.loc[indicesToKeep, 'principal component 1']\n",
    "               , finalDf.loc[indicesToKeep, 'principal component 2']\n",
    "               , c = color\n",
    "               , s = 50)\n",
    "ax.legend(targets)\n",
    "ax.grid()"
   ]
  },
  {
   "cell_type": "markdown",
   "metadata": {},
   "source": [
    "## t-SNE"
   ]
  },
  {
   "cell_type": "code",
   "execution_count": 13,
   "metadata": {},
   "outputs": [],
   "source": [
    "from sklearn.manifold import TSNE"
   ]
  },
  {
   "cell_type": "code",
   "execution_count": 14,
   "metadata": {},
   "outputs": [],
   "source": [
    "tsne_model = TSNE(n_components=2, random_state=42, perplexity=45)\n",
    "tsne_components = tsne_model.fit_transform(X_df)"
   ]
  },
  {
   "cell_type": "code",
   "execution_count": 15,
   "metadata": {},
   "outputs": [],
   "source": [
    "tsne_df = pd.DataFrame(data=tsne_components, columns=['tsne_1', 'tsne_2'])\n",
    "target_df = pd.DataFrame(data=y, columns=['target'])\n",
    "tsne_df = pd.concat([tsne_df,target_df], axis=1)"
   ]
  },
  {
   "cell_type": "code",
   "execution_count": 16,
   "metadata": {},
   "outputs": [
    {
     "data": {
      "image/png": "[encoded data removed]",
      "text/plain": [
       "<Figure size 576x576 with 1 Axes>"
      ]
     },
     "metadata": {},
     "output_type": "display_data"
    }
   ],
   "source": [
    "fig = plt.figure(figsize = (8,8))\n",
    "ax = fig.add_subplot(1,1,1) \n",
    "ax.set_xlabel('tsne Component 1', fontsize = 15)\n",
    "ax.set_ylabel('tsne Component 2', fontsize = 15)\n",
    "ax.set_title('2 component tsne', fontsize = 20)\n",
    "targets = [0, 1]\n",
    "colors = ['r', 'b']\n",
    "for target, color in zip(targets,colors):\n",
    "    indicesToKeep = tsne_df['target'] == target\n",
    "    ax.scatter(tsne_df.loc[indicesToKeep, 'tsne_1']\n",
    "               , tsne_df.loc[indicesToKeep, 'tsne_2']\n",
    "               , c = color\n",
    "               , s = 50)\n",
    "ax.legend(targets)\n",
    "ax.grid()"
   ]
  },
  {
   "cell_type": "markdown",
   "metadata": {},
   "source": [
    "## XGBoost for feature selection and classification"
   ]
  },
  {
   "cell_type": "code",
   "execution_count": 5,
   "metadata": {},
   "outputs": [],
   "source": [
    "import xgboost as xgb\n",
    "from sklearn.metrics import roc_auc_score, accuracy_score"
   ]
  },
  {
   "cell_type": "code",
   "execution_count": 6,
   "metadata": {},
   "outputs": [
    {
     "name": "stdout",
     "output_type": "stream",
     "text": [
      "[0]\tvalidation_0-auc:0.82746\n",
      "[1]\tvalidation_0-auc:0.82443\n",
      "[2]\tvalidation_0-auc:0.82691\n",
      "[3]\tvalidation_0-auc:0.83297\n",
      "[4]\tvalidation_0-auc:0.81625\n",
      "[5]\tvalidation_0-auc:0.82231\n",
      "[6]\tvalidation_0-auc:0.81827\n",
      "[7]\tvalidation_0-auc:0.81680\n"
     ]
    },
    {
     "data": {
      "text/plain": [
       "XGBClassifier(base_score=0.5, booster='gbtree', colsample_bylevel=1,\n",
       "       colsample_bynode=1, colsample_bytree=1, eval_metric=['auc'],\n",
       "       gamma=0, gpu_id=-1, importance_type='gain',\n",
       "       interaction_constraints='', learning_rate=0.300000012,\n",
       "       max_delta_step=0, max_depth=6, min_child_weight=1, missing=nan,\n",
       "       monotone_constraints='()', n_estimators=100, n_jobs=8,\n",
       "       num_parallel_tree=1, objective='binary:logistic', random_state=42,\n",
       "       reg_alpha=0, reg_lambda=1, scale_pos_weight=1, subsample=1,\n",
       "       tree_method='exact', use_label_encoder=False, validate_parameters=1,\n",
       "       verbosity=None)"
      ]
     },
     "execution_count": 6,
     "metadata": {},
     "output_type": "execute_result"
    }
   ],
   "source": [
    "xgb_model = xgb.XGBClassifier(objective='binary:logistic', random_state=42,use_label_encoder=False,eval_metric=['auc'])\n",
    "\n",
    "xgb_model.fit(X_train, y_train, early_stopping_rounds=5, eval_set=[(X_test, y_test)])"
   ]
  },
  {
   "cell_type": "code",
   "execution_count": 7,
   "metadata": {},
   "outputs": [
    {
     "name": "stdout",
     "output_type": "stream",
     "text": [
      "best AUC score: 0.832966 at iteration 3 with ntree 4\n",
      "The XGBoost model achieves acc of 0.753, and auc of 0.833.\n"
     ]
    }
   ],
   "source": [
    "print('best AUC score: {} at iteration {} with ntree {}'.format(xgb_model.best_score,xgb_model.best_iteration,xgb_model.best_ntree_limit))\n",
    "\n",
    "xgb_pred = xgb_model.predict(X_test)\n",
    "xgb_acc = accuracy_score(y_test, xgb_pred)\n",
    "print('The XGBoost model achieves acc of {:.3f}, and auc of {:.3f}.'.format(xgb_acc,xgb_model.best_score))"
   ]
  },
  {
   "cell_type": "code",
   "execution_count": 8,
   "metadata": {},
   "outputs": [
    {
     "name": "stdout",
     "output_type": "stream",
     "text": [
      "The importances of each feature that contributes to the xgb classification: \n",
      "[0.05473172 0.34860444 0.08301385 0.07438435 0.07860086 0.15627448\n",
      " 0.06708726 0.13730296]\n"
     ]
    }
   ],
   "source": [
    "print('The importances of each feature that contributes to the xgb classification: \\n{}'.format(xgb_model.feature_importances_))"
   ]
  },
  {
   "cell_type": "markdown",
   "metadata": {},
   "source": [
    "## Neural Network"
   ]
  },
  {
   "cell_type": "code",
   "execution_count": 9,
   "metadata": {},
   "outputs": [
    {
     "name": "stdout",
     "output_type": "stream",
     "text": [
      "Model: \"model\"\n",
      "_________________________________________________________________\n",
      "Layer (type)                 Output Shape              Param #   \n",
      "=================================================================\n",
      "input-layer (InputLayer)     [(None, 8)]               0         \n",
      "_________________________________________________________________\n",
      "hidden-1 (Dense)             (None, 16)                144       \n",
      "_________________________________________________________________\n",
      "hidden-2 (Dense)             (None, 8)                 136       \n",
      "_________________________________________________________________\n",
      "output-layer (Dense)         (None, 1)                 9         \n",
      "=================================================================\n",
      "Total params: 289\n",
      "Trainable params: 289\n",
      "Non-trainable params: 0\n",
      "_________________________________________________________________\n"
     ]
    }
   ],
   "source": [
    "model = md.create_diabetes_model(X_df.shape[1])\n",
    "model.compile(loss='binary_crossentropy',\n",
    "              optimizer='adam',\n",
    "              metrics=['accuracy', tf.keras.metrics.AUC()])\n",
    "model.summary()"
   ]
  },
  {
   "cell_type": "code",
   "execution_count": 10,
   "metadata": {},
   "outputs": [
    {
     "name": "stdout",
     "output_type": "stream",
     "text": [
      "Epoch 1/200\n",
      "50/50 [==============================] - 2s 24ms/step - loss: 6.5439 - accuracy: 0.6216 - auc: 0.4589 - val_loss: 3.2628 - val_accuracy: 0.5447 - val_auc: 0.4490\n",
      "Epoch 2/200\n",
      "50/50 [==============================] - 0s 2ms/step - loss: 2.8642 - accuracy: 0.5711 - auc: 0.4070 - val_loss: 2.0986 - val_accuracy: 0.5122 - val_auc: 0.4308\n",
      "Epoch 3/200\n",
      "50/50 [==============================] - 0s 2ms/step - loss: 1.8334 - accuracy: 0.5013 - auc: 0.3880 - val_loss: 1.5554 - val_accuracy: 0.5122 - val_auc: 0.4456\n",
      "Epoch 4/200\n",
      "50/50 [==============================] - 0s 2ms/step - loss: 1.4201 - accuracy: 0.5138 - auc: 0.3813 - val_loss: 1.2053 - val_accuracy: 0.5203 - val_auc: 0.5025\n",
      "Epoch 5/200\n",
      "50/50 [==============================] - 0s 2ms/step - loss: 1.0949 - accuracy: 0.5696 - auc: 0.4408 - val_loss: 1.2275 - val_accuracy: 0.6098 - val_auc: 0.5451\n",
      "Epoch 6/200\n",
      "50/50 [==============================] - 0s 2ms/step - loss: 0.9090 - accuracy: 0.6031 - auc: 0.5267 - val_loss: 0.9237 - val_accuracy: 0.6504 - val_auc: 0.6225\n",
      "Epoch 7/200\n",
      "50/50 [==============================] - 0s 2ms/step - loss: 0.8273 - accuracy: 0.6146 - auc: 0.5620 - val_loss: 0.9429 - val_accuracy: 0.6504 - val_auc: 0.6368\n",
      "Epoch 8/200\n",
      "50/50 [==============================] - 0s 2ms/step - loss: 0.7941 - accuracy: 0.6176 - auc: 0.5681 - val_loss: 0.7955 - val_accuracy: 0.6423 - val_auc: 0.6743\n",
      "Epoch 9/200\n",
      "50/50 [==============================] - 0s 2ms/step - loss: 0.7084 - accuracy: 0.6459 - auc: 0.6013 - val_loss: 0.8223 - val_accuracy: 0.6667 - val_auc: 0.6539\n",
      "Epoch 10/200\n",
      "50/50 [==============================] - 0s 2ms/step - loss: 0.6688 - accuracy: 0.6493 - auc: 0.6275 - val_loss: 0.9356 - val_accuracy: 0.6260 - val_auc: 0.6424\n",
      "Epoch 11/200\n",
      "50/50 [==============================] - 0s 2ms/step - loss: 0.6784 - accuracy: 0.6479 - auc: 0.6200 - val_loss: 0.7358 - val_accuracy: 0.6667 - val_auc: 0.6657\n",
      "Epoch 12/200\n",
      "50/50 [==============================] - 0s 2ms/step - loss: 0.6151 - accuracy: 0.6608 - auc: 0.6542 - val_loss: 0.6871 - val_accuracy: 0.6748 - val_auc: 0.6914\n",
      "Epoch 13/200\n",
      "50/50 [==============================] - 0s 2ms/step - loss: 0.6314 - accuracy: 0.6493 - auc: 0.6479 - val_loss: 0.6688 - val_accuracy: 0.6992 - val_auc: 0.7019\n",
      "Epoch 14/200\n",
      "50/50 [==============================] - 0s 2ms/step - loss: 0.6463 - accuracy: 0.6484 - auc: 0.6565 - val_loss: 0.6757 - val_accuracy: 0.6667 - val_auc: 0.6857\n",
      "Epoch 15/200\n",
      "50/50 [==============================] - 0s 2ms/step - loss: 0.6413 - accuracy: 0.6655 - auc: 0.6677 - val_loss: 0.7647 - val_accuracy: 0.6504 - val_auc: 0.6560\n",
      "Epoch 16/200\n",
      "50/50 [==============================] - 0s 2ms/step - loss: 0.6260 - accuracy: 0.6873 - auc: 0.6650 - val_loss: 0.6444 - val_accuracy: 0.6504 - val_auc: 0.6836\n",
      "Epoch 17/200\n",
      "50/50 [==============================] - 0s 2ms/step - loss: 0.5939 - accuracy: 0.7025 - auc: 0.7197 - val_loss: 0.6538 - val_accuracy: 0.6829 - val_auc: 0.6832\n",
      "Epoch 18/200\n",
      "50/50 [==============================] - 0s 2ms/step - loss: 0.5892 - accuracy: 0.6671 - auc: 0.7139 - val_loss: 0.6217 - val_accuracy: 0.6667 - val_auc: 0.6933\n",
      "Epoch 19/200\n",
      "50/50 [==============================] - 0s 2ms/step - loss: 0.6066 - accuracy: 0.6741 - auc: 0.6923 - val_loss: 0.6260 - val_accuracy: 0.6504 - val_auc: 0.6875\n",
      "Epoch 20/200\n",
      "50/50 [==============================] - 0s 2ms/step - loss: 0.6074 - accuracy: 0.6591 - auc: 0.7181 - val_loss: 0.8174 - val_accuracy: 0.6585 - val_auc: 0.6465\n",
      "Epoch 21/200\n",
      "50/50 [==============================] - 0s 2ms/step - loss: 0.5947 - accuracy: 0.7063 - auc: 0.7084 - val_loss: 0.6971 - val_accuracy: 0.6667 - val_auc: 0.6737\n",
      "Epoch 22/200\n",
      "50/50 [==============================] - 0s 2ms/step - loss: 0.7162 - accuracy: 0.6576 - auc: 0.6407 - val_loss: 0.6536 - val_accuracy: 0.6748 - val_auc: 0.6890\n",
      "Epoch 23/200\n",
      "50/50 [==============================] - 0s 2ms/step - loss: 0.6162 - accuracy: 0.6746 - auc: 0.6792 - val_loss: 0.6206 - val_accuracy: 0.6911 - val_auc: 0.7008\n",
      "Epoch 24/200\n",
      "50/50 [==============================] - 0s 2ms/step - loss: 0.5616 - accuracy: 0.7016 - auc: 0.7121 - val_loss: 0.6614 - val_accuracy: 0.5935 - val_auc: 0.6665\n",
      "Epoch 25/200\n",
      "50/50 [==============================] - 0s 2ms/step - loss: 0.5878 - accuracy: 0.6607 - auc: 0.7062 - val_loss: 0.5999 - val_accuracy: 0.6992 - val_auc: 0.7144\n",
      "Epoch 26/200\n",
      "50/50 [==============================] - 0s 2ms/step - loss: 0.5578 - accuracy: 0.7475 - auc: 0.7271 - val_loss: 0.6501 - val_accuracy: 0.6098 - val_auc: 0.6801\n",
      "Epoch 27/200\n",
      "50/50 [==============================] - 0s 2ms/step - loss: 0.6118 - accuracy: 0.6348 - auc: 0.6959 - val_loss: 0.6476 - val_accuracy: 0.6829 - val_auc: 0.7044\n",
      "Epoch 28/200\n",
      "50/50 [==============================] - 0s 2ms/step - loss: 0.5665 - accuracy: 0.6892 - auc: 0.7184 - val_loss: 0.6380 - val_accuracy: 0.5772 - val_auc: 0.6761\n",
      "Epoch 29/200\n",
      "50/50 [==============================] - 0s 2ms/step - loss: 0.6482 - accuracy: 0.6643 - auc: 0.6670 - val_loss: 0.6209 - val_accuracy: 0.6260 - val_auc: 0.6946\n",
      "Epoch 30/200\n",
      "50/50 [==============================] - 0s 2ms/step - loss: 0.6083 - accuracy: 0.6756 - auc: 0.6845 - val_loss: 0.6215 - val_accuracy: 0.6341 - val_auc: 0.6949\n",
      "Epoch 31/200\n",
      "50/50 [==============================] - 0s 2ms/step - loss: 0.5845 - accuracy: 0.7076 - auc: 0.7470 - val_loss: 0.6329 - val_accuracy: 0.6829 - val_auc: 0.7051\n",
      "Epoch 32/200\n",
      "50/50 [==============================] - 0s 2ms/step - loss: 0.5876 - accuracy: 0.6807 - auc: 0.7197 - val_loss: 0.6926 - val_accuracy: 0.6667 - val_auc: 0.6940\n",
      "Epoch 33/200\n",
      "50/50 [==============================] - 0s 2ms/step - loss: 0.6402 - accuracy: 0.6702 - auc: 0.6882 - val_loss: 0.6130 - val_accuracy: 0.6423 - val_auc: 0.7081\n",
      "Epoch 34/200\n",
      "50/50 [==============================] - 0s 2ms/step - loss: 0.5877 - accuracy: 0.6991 - auc: 0.7241 - val_loss: 0.6789 - val_accuracy: 0.6748 - val_auc: 0.6983\n",
      "Epoch 35/200\n",
      "50/50 [==============================] - 0s 2ms/step - loss: 0.5769 - accuracy: 0.7035 - auc: 0.7229 - val_loss: 0.6176 - val_accuracy: 0.6748 - val_auc: 0.7083\n",
      "Epoch 36/200\n",
      "50/50 [==============================] - 0s 2ms/step - loss: 0.5627 - accuracy: 0.7175 - auc: 0.7379 - val_loss: 0.6356 - val_accuracy: 0.6667 - val_auc: 0.6985\n",
      "Epoch 37/200\n",
      "50/50 [==============================] - 0s 2ms/step - loss: 0.5616 - accuracy: 0.7254 - auc: 0.7507 - val_loss: 0.5882 - val_accuracy: 0.6748 - val_auc: 0.7310\n",
      "Epoch 38/200\n",
      "50/50 [==============================] - 0s 2ms/step - loss: 0.5814 - accuracy: 0.6993 - auc: 0.7410 - val_loss: 0.7029 - val_accuracy: 0.6423 - val_auc: 0.6840\n",
      "Epoch 39/200\n",
      "50/50 [==============================] - 0s 2ms/step - loss: 0.6283 - accuracy: 0.6977 - auc: 0.6807 - val_loss: 0.5899 - val_accuracy: 0.6829 - val_auc: 0.7271\n",
      "Epoch 40/200\n",
      "50/50 [==============================] - 0s 2ms/step - loss: 0.5656 - accuracy: 0.6963 - auc: 0.7379 - val_loss: 0.6335 - val_accuracy: 0.6341 - val_auc: 0.6942\n",
      "Epoch 41/200\n",
      "50/50 [==============================] - 0s 2ms/step - loss: 0.5630 - accuracy: 0.6868 - auc: 0.7431 - val_loss: 0.6085 - val_accuracy: 0.6748 - val_auc: 0.7065\n",
      "Epoch 42/200\n",
      "50/50 [==============================] - 0s 2ms/step - loss: 0.5809 - accuracy: 0.6870 - auc: 0.7007 - val_loss: 0.6152 - val_accuracy: 0.6585 - val_auc: 0.7012\n",
      "Epoch 43/200\n",
      "50/50 [==============================] - 0s 3ms/step - loss: 0.6064 - accuracy: 0.6829 - auc: 0.7127 - val_loss: 0.6670 - val_accuracy: 0.6911 - val_auc: 0.6997\n",
      "Epoch 44/200\n",
      "50/50 [==============================] - 0s 2ms/step - loss: 0.5458 - accuracy: 0.7353 - auc: 0.7465 - val_loss: 0.5988 - val_accuracy: 0.6829 - val_auc: 0.7207\n",
      "Epoch 45/200\n",
      "50/50 [==============================] - 0s 2ms/step - loss: 0.5493 - accuracy: 0.7078 - auc: 0.7428 - val_loss: 0.5950 - val_accuracy: 0.6667 - val_auc: 0.7226\n",
      "Epoch 46/200\n",
      "50/50 [==============================] - 0s 2ms/step - loss: 0.5549 - accuracy: 0.7287 - auc: 0.7098 - val_loss: 0.6160 - val_accuracy: 0.6585 - val_auc: 0.7113\n",
      "Epoch 47/200\n",
      "50/50 [==============================] - 0s 2ms/step - loss: 0.5658 - accuracy: 0.7058 - auc: 0.7553 - val_loss: 0.5937 - val_accuracy: 0.6748 - val_auc: 0.7188\n",
      "Epoch 48/200\n"
     ]
    },
    {
     "name": "stdout",
     "output_type": "stream",
     "text": [
      "50/50 [==============================] - 0s 2ms/step - loss: 0.5790 - accuracy: 0.7043 - auc: 0.7075 - val_loss: 0.6375 - val_accuracy: 0.6179 - val_auc: 0.7232\n",
      "Epoch 49/200\n",
      "50/50 [==============================] - 0s 2ms/step - loss: 0.7766 - accuracy: 0.6540 - auc: 0.7077 - val_loss: 0.6588 - val_accuracy: 0.6829 - val_auc: 0.6996\n",
      "Epoch 50/200\n",
      "50/50 [==============================] - 0s 2ms/step - loss: 0.6002 - accuracy: 0.6836 - auc: 0.7110 - val_loss: 0.5963 - val_accuracy: 0.6829 - val_auc: 0.7236\n",
      "Epoch 51/200\n",
      "50/50 [==============================] - 0s 2ms/step - loss: 0.5819 - accuracy: 0.6649 - auc: 0.7420 - val_loss: 0.5995 - val_accuracy: 0.6829 - val_auc: 0.7258\n",
      "Epoch 52/200\n",
      "50/50 [==============================] - 0s 2ms/step - loss: 0.5819 - accuracy: 0.6787 - auc: 0.7291 - val_loss: 0.6831 - val_accuracy: 0.6667 - val_auc: 0.6994\n",
      "Epoch 53/200\n",
      "50/50 [==============================] - 0s 2ms/step - loss: 0.5353 - accuracy: 0.7441 - auc: 0.7604 - val_loss: 0.6119 - val_accuracy: 0.6260 - val_auc: 0.7387\n",
      "Epoch 54/200\n",
      "50/50 [==============================] - 0s 2ms/step - loss: 0.5571 - accuracy: 0.7173 - auc: 0.7511 - val_loss: 0.6493 - val_accuracy: 0.6748 - val_auc: 0.7093\n",
      "Epoch 55/200\n",
      "50/50 [==============================] - 0s 2ms/step - loss: 0.5426 - accuracy: 0.7393 - auc: 0.7570 - val_loss: 0.6044 - val_accuracy: 0.7073 - val_auc: 0.7286\n",
      "Epoch 56/200\n",
      "50/50 [==============================] - 0s 2ms/step - loss: 0.5429 - accuracy: 0.7050 - auc: 0.7712 - val_loss: 0.6956 - val_accuracy: 0.6667 - val_auc: 0.7063\n",
      "Epoch 57/200\n",
      "50/50 [==============================] - 0s 2ms/step - loss: 0.5569 - accuracy: 0.6970 - auc: 0.7608 - val_loss: 0.5974 - val_accuracy: 0.7236 - val_auc: 0.7314\n",
      "Epoch 58/200\n",
      "50/50 [==============================] - 0s 2ms/step - loss: 0.5318 - accuracy: 0.7236 - auc: 0.7841 - val_loss: 0.6030 - val_accuracy: 0.6829 - val_auc: 0.7322\n",
      "Epoch 59/200\n",
      "50/50 [==============================] - 0s 2ms/step - loss: 0.5475 - accuracy: 0.7243 - auc: 0.7552 - val_loss: 0.5701 - val_accuracy: 0.6667 - val_auc: 0.7435\n",
      "Epoch 60/200\n",
      "50/50 [==============================] - 0s 2ms/step - loss: 0.5652 - accuracy: 0.6960 - auc: 0.7497 - val_loss: 0.6205 - val_accuracy: 0.6911 - val_auc: 0.7194\n",
      "Epoch 61/200\n",
      "50/50 [==============================] - 0s 2ms/step - loss: 0.5482 - accuracy: 0.7336 - auc: 0.7491 - val_loss: 0.6067 - val_accuracy: 0.6911 - val_auc: 0.7296\n",
      "Epoch 62/200\n",
      "50/50 [==============================] - 0s 2ms/step - loss: 0.5557 - accuracy: 0.7175 - auc: 0.7367 - val_loss: 0.5807 - val_accuracy: 0.6911 - val_auc: 0.7414\n",
      "Epoch 63/200\n",
      "50/50 [==============================] - 0s 2ms/step - loss: 0.5586 - accuracy: 0.7121 - auc: 0.7205 - val_loss: 0.6019 - val_accuracy: 0.6179 - val_auc: 0.7478\n",
      "Epoch 64/200\n",
      "50/50 [==============================] - 0s 2ms/step - loss: 0.5157 - accuracy: 0.7716 - auc: 0.7810 - val_loss: 0.6233 - val_accuracy: 0.6504 - val_auc: 0.7414\n",
      "Epoch 65/200\n",
      "50/50 [==============================] - 0s 2ms/step - loss: 0.5640 - accuracy: 0.6884 - auc: 0.7553 - val_loss: 0.6053 - val_accuracy: 0.6341 - val_auc: 0.7506\n",
      "Epoch 66/200\n",
      "50/50 [==============================] - 0s 2ms/step - loss: 0.5942 - accuracy: 0.6861 - auc: 0.7312 - val_loss: 0.5579 - val_accuracy: 0.6992 - val_auc: 0.7581\n",
      "Epoch 67/200\n",
      "50/50 [==============================] - 0s 2ms/step - loss: 0.4859 - accuracy: 0.7490 - auc: 0.8059 - val_loss: 0.5587 - val_accuracy: 0.6992 - val_auc: 0.7587\n",
      "Epoch 68/200\n",
      "50/50 [==============================] - 0s 2ms/step - loss: 0.5822 - accuracy: 0.7023 - auc: 0.7470 - val_loss: 0.6296 - val_accuracy: 0.6748 - val_auc: 0.7218\n",
      "Epoch 69/200\n",
      "50/50 [==============================] - 0s 2ms/step - loss: 0.5199 - accuracy: 0.7376 - auc: 0.7881 - val_loss: 0.6002 - val_accuracy: 0.7154 - val_auc: 0.7412\n",
      "Epoch 70/200\n",
      "50/50 [==============================] - 0s 2ms/step - loss: 0.5320 - accuracy: 0.7318 - auc: 0.7711 - val_loss: 0.5884 - val_accuracy: 0.6911 - val_auc: 0.7315\n",
      "Epoch 71/200\n",
      "50/50 [==============================] - 0s 2ms/step - loss: 0.5071 - accuracy: 0.7515 - auc: 0.7953 - val_loss: 0.5919 - val_accuracy: 0.6829 - val_auc: 0.7385\n",
      "Epoch 72/200\n",
      "50/50 [==============================] - 0s 2ms/step - loss: 0.5184 - accuracy: 0.7343 - auc: 0.7502 - val_loss: 0.6060 - val_accuracy: 0.6911 - val_auc: 0.7281\n",
      "Epoch 73/200\n",
      "50/50 [==============================] - 0s 2ms/step - loss: 0.5347 - accuracy: 0.7265 - auc: 0.7530 - val_loss: 0.6209 - val_accuracy: 0.6829 - val_auc: 0.7297\n",
      "Epoch 74/200\n",
      "50/50 [==============================] - 0s 2ms/step - loss: 0.5399 - accuracy: 0.7403 - auc: 0.7735 - val_loss: 0.5619 - val_accuracy: 0.6829 - val_auc: 0.7546\n",
      "Epoch 75/200\n",
      "50/50 [==============================] - 0s 2ms/step - loss: 0.5079 - accuracy: 0.7513 - auc: 0.7979 - val_loss: 0.6072 - val_accuracy: 0.7073 - val_auc: 0.7350\n",
      "Epoch 76/200\n",
      "50/50 [==============================] - 0s 2ms/step - loss: 0.5429 - accuracy: 0.7352 - auc: 0.7462 - val_loss: 0.6230 - val_accuracy: 0.6829 - val_auc: 0.7315\n",
      "Epoch 77/200\n",
      "50/50 [==============================] - 0s 2ms/step - loss: 0.5431 - accuracy: 0.7501 - auc: 0.7264 - val_loss: 0.5966 - val_accuracy: 0.6911 - val_auc: 0.7383\n",
      "Epoch 78/200\n",
      "50/50 [==============================] - 0s 2ms/step - loss: 0.5324 - accuracy: 0.7407 - auc: 0.7653 - val_loss: 0.5650 - val_accuracy: 0.6911 - val_auc: 0.7528\n",
      "Epoch 79/200\n",
      "50/50 [==============================] - 0s 2ms/step - loss: 0.4974 - accuracy: 0.7602 - auc: 0.7974 - val_loss: 0.5506 - val_accuracy: 0.6748 - val_auc: 0.7663\n",
      "Epoch 80/200\n",
      "50/50 [==============================] - 0s 2ms/step - loss: 0.5023 - accuracy: 0.7657 - auc: 0.8145 - val_loss: 0.5829 - val_accuracy: 0.7073 - val_auc: 0.7490\n",
      "Epoch 81/200\n",
      "50/50 [==============================] - 0s 2ms/step - loss: 0.5204 - accuracy: 0.7335 - auc: 0.7798 - val_loss: 0.5725 - val_accuracy: 0.7073 - val_auc: 0.7618\n",
      "Epoch 82/200\n",
      "50/50 [==============================] - 0s 2ms/step - loss: 0.5521 - accuracy: 0.7321 - auc: 0.7476 - val_loss: 0.5676 - val_accuracy: 0.6585 - val_auc: 0.7599\n",
      "Epoch 83/200\n",
      "50/50 [==============================] - 0s 3ms/step - loss: 0.5129 - accuracy: 0.7295 - auc: 0.8057 - val_loss: 0.6284 - val_accuracy: 0.6829 - val_auc: 0.7389\n",
      "Epoch 84/200\n",
      "50/50 [==============================] - 0s 2ms/step - loss: 0.4887 - accuracy: 0.7492 - auc: 0.7956 - val_loss: 0.5749 - val_accuracy: 0.6992 - val_auc: 0.7544\n",
      "Epoch 85/200\n",
      "50/50 [==============================] - 0s 3ms/step - loss: 0.4924 - accuracy: 0.7747 - auc: 0.8262 - val_loss: 0.5893 - val_accuracy: 0.6585 - val_auc: 0.7525\n",
      "Epoch 86/200\n",
      "50/50 [==============================] - 0s 2ms/step - loss: 0.5494 - accuracy: 0.7343 - auc: 0.7802 - val_loss: 0.5538 - val_accuracy: 0.6748 - val_auc: 0.7703\n",
      "Epoch 87/200\n",
      "50/50 [==============================] - 0s 2ms/step - loss: 0.5527 - accuracy: 0.7090 - auc: 0.7504 - val_loss: 0.5824 - val_accuracy: 0.6992 - val_auc: 0.7572\n",
      "Epoch 88/200\n",
      "50/50 [==============================] - 0s 2ms/step - loss: 0.5298 - accuracy: 0.7202 - auc: 0.7375 - val_loss: 0.6016 - val_accuracy: 0.6504 - val_auc: 0.7536\n",
      "Epoch 89/200\n",
      "50/50 [==============================] - 0s 2ms/step - loss: 0.5701 - accuracy: 0.6997 - auc: 0.7640 - val_loss: 0.6367 - val_accuracy: 0.6667 - val_auc: 0.7354\n",
      "Epoch 90/200\n",
      "50/50 [==============================] - 0s 2ms/step - loss: 0.5140 - accuracy: 0.7353 - auc: 0.8028 - val_loss: 0.5601 - val_accuracy: 0.6341 - val_auc: 0.7587\n",
      "Epoch 91/200\n",
      "50/50 [==============================] - 0s 2ms/step - loss: 0.5642 - accuracy: 0.7148 - auc: 0.7429 - val_loss: 0.6397 - val_accuracy: 0.7073 - val_auc: 0.7521\n",
      "Epoch 92/200\n",
      "50/50 [==============================] - 0s 2ms/step - loss: 0.5741 - accuracy: 0.7145 - auc: 0.7220 - val_loss: 0.5489 - val_accuracy: 0.7073 - val_auc: 0.7699\n",
      "Epoch 93/200\n",
      "50/50 [==============================] - 0s 2ms/step - loss: 0.5085 - accuracy: 0.7419 - auc: 0.7971 - val_loss: 0.5994 - val_accuracy: 0.6829 - val_auc: 0.7600\n",
      "Epoch 94/200\n",
      "50/50 [==============================] - 0s 2ms/step - loss: 0.4958 - accuracy: 0.7678 - auc: 0.7939 - val_loss: 0.5564 - val_accuracy: 0.6911 - val_auc: 0.7622\n",
      "Epoch 95/200\n"
     ]
    },
    {
     "name": "stdout",
     "output_type": "stream",
     "text": [
      "50/50 [==============================] - 0s 2ms/step - loss: 0.5192 - accuracy: 0.7239 - auc: 0.7895 - val_loss: 0.5405 - val_accuracy: 0.6829 - val_auc: 0.7778\n",
      "Epoch 96/200\n",
      "50/50 [==============================] - 0s 2ms/step - loss: 0.5756 - accuracy: 0.6861 - auc: 0.7442 - val_loss: 0.5599 - val_accuracy: 0.6911 - val_auc: 0.7597\n",
      "Epoch 97/200\n",
      "50/50 [==============================] - 0s 2ms/step - loss: 0.4857 - accuracy: 0.7723 - auc: 0.8123 - val_loss: 0.5873 - val_accuracy: 0.6911 - val_auc: 0.7496\n",
      "Epoch 98/200\n",
      "50/50 [==============================] - 0s 2ms/step - loss: 0.5488 - accuracy: 0.7142 - auc: 0.7583 - val_loss: 0.5908 - val_accuracy: 0.7073 - val_auc: 0.7461\n",
      "Epoch 99/200\n",
      "50/50 [==============================] - 0s 2ms/step - loss: 0.5246 - accuracy: 0.7342 - auc: 0.7804 - val_loss: 0.5747 - val_accuracy: 0.7073 - val_auc: 0.7521\n",
      "Epoch 100/200\n",
      "50/50 [==============================] - 0s 2ms/step - loss: 0.5217 - accuracy: 0.7455 - auc: 0.7787 - val_loss: 0.5762 - val_accuracy: 0.6667 - val_auc: 0.7797\n",
      "Epoch 101/200\n",
      "50/50 [==============================] - 0s 2ms/step - loss: 0.5480 - accuracy: 0.7097 - auc: 0.7826 - val_loss: 0.5281 - val_accuracy: 0.7073 - val_auc: 0.7932\n",
      "Epoch 102/200\n",
      "50/50 [==============================] - 0s 2ms/step - loss: 0.5065 - accuracy: 0.7314 - auc: 0.7934 - val_loss: 0.6742 - val_accuracy: 0.6667 - val_auc: 0.7381\n",
      "Epoch 103/200\n",
      "50/50 [==============================] - 0s 2ms/step - loss: 0.5107 - accuracy: 0.7387 - auc: 0.7882 - val_loss: 0.5607 - val_accuracy: 0.6911 - val_auc: 0.7765\n",
      "Epoch 104/200\n",
      "50/50 [==============================] - 0s 2ms/step - loss: 0.5040 - accuracy: 0.7605 - auc: 0.7942 - val_loss: 0.5531 - val_accuracy: 0.6911 - val_auc: 0.7722\n",
      "Epoch 105/200\n",
      "50/50 [==============================] - 0s 2ms/step - loss: 0.5031 - accuracy: 0.7609 - auc: 0.7947 - val_loss: 0.5450 - val_accuracy: 0.6667 - val_auc: 0.7842\n",
      "Epoch 106/200\n",
      "50/50 [==============================] - 0s 2ms/step - loss: 0.5151 - accuracy: 0.7477 - auc: 0.7963 - val_loss: 0.5995 - val_accuracy: 0.6829 - val_auc: 0.7646\n",
      "Epoch 107/200\n",
      "50/50 [==============================] - 0s 2ms/step - loss: 0.5395 - accuracy: 0.7198 - auc: 0.7949 - val_loss: 0.6208 - val_accuracy: 0.6911 - val_auc: 0.7549\n",
      "Epoch 108/200\n",
      "50/50 [==============================] - 0s 2ms/step - loss: 0.6097 - accuracy: 0.7387 - auc: 0.7133 - val_loss: 0.5293 - val_accuracy: 0.6992 - val_auc: 0.7938\n",
      "Epoch 109/200\n",
      "50/50 [==============================] - 0s 2ms/step - loss: 0.4874 - accuracy: 0.7412 - auc: 0.8011 - val_loss: 0.6405 - val_accuracy: 0.6748 - val_auc: 0.7474\n",
      "Epoch 110/200\n",
      "50/50 [==============================] - 0s 2ms/step - loss: 0.4853 - accuracy: 0.7496 - auc: 0.8260 - val_loss: 0.6356 - val_accuracy: 0.6748 - val_auc: 0.7451\n",
      "Epoch 111/200\n",
      "50/50 [==============================] - 0s 2ms/step - loss: 0.5432 - accuracy: 0.7250 - auc: 0.7783 - val_loss: 0.5344 - val_accuracy: 0.7317 - val_auc: 0.7925\n",
      "Epoch 112/200\n",
      "50/50 [==============================] - 0s 2ms/step - loss: 0.5068 - accuracy: 0.7725 - auc: 0.7802 - val_loss: 0.6114 - val_accuracy: 0.6585 - val_auc: 0.7832\n",
      "Epoch 113/200\n",
      "50/50 [==============================] - 0s 2ms/step - loss: 0.5346 - accuracy: 0.7148 - auc: 0.7975 - val_loss: 0.5622 - val_accuracy: 0.7073 - val_auc: 0.7675\n",
      "Epoch 114/200\n",
      "50/50 [==============================] - 0s 2ms/step - loss: 0.5099 - accuracy: 0.7378 - auc: 0.7979 - val_loss: 0.6193 - val_accuracy: 0.6992 - val_auc: 0.7676\n",
      "Epoch 115/200\n",
      "50/50 [==============================] - 0s 2ms/step - loss: 0.5432 - accuracy: 0.7048 - auc: 0.7710 - val_loss: 0.5428 - val_accuracy: 0.7073 - val_auc: 0.7819\n",
      "Epoch 116/200\n",
      "50/50 [==============================] - 0s 2ms/step - loss: 0.5180 - accuracy: 0.7221 - auc: 0.7889 - val_loss: 0.5934 - val_accuracy: 0.6748 - val_auc: 0.7862\n",
      "Epoch 117/200\n",
      "50/50 [==============================] - 0s 2ms/step - loss: 0.5325 - accuracy: 0.7181 - auc: 0.7924 - val_loss: 0.5209 - val_accuracy: 0.7154 - val_auc: 0.8111\n",
      "Epoch 118/200\n",
      "50/50 [==============================] - 0s 2ms/step - loss: 0.5007 - accuracy: 0.7482 - auc: 0.8085 - val_loss: 0.6016 - val_accuracy: 0.6748 - val_auc: 0.7563\n",
      "Epoch 119/200\n",
      "50/50 [==============================] - 0s 2ms/step - loss: 0.4574 - accuracy: 0.7790 - auc: 0.8406 - val_loss: 0.5431 - val_accuracy: 0.7154 - val_auc: 0.7728\n",
      "Epoch 120/200\n",
      "50/50 [==============================] - 0s 2ms/step - loss: 0.4833 - accuracy: 0.7688 - auc: 0.8081 - val_loss: 0.5929 - val_accuracy: 0.6748 - val_auc: 0.7829\n",
      "Epoch 121/200\n",
      "50/50 [==============================] - 0s 2ms/step - loss: 0.5038 - accuracy: 0.7500 - auc: 0.8226 - val_loss: 0.6075 - val_accuracy: 0.6829 - val_auc: 0.7463\n",
      "Epoch 122/200\n",
      "50/50 [==============================] - 0s 2ms/step - loss: 0.4976 - accuracy: 0.7654 - auc: 0.8074 - val_loss: 0.5280 - val_accuracy: 0.7073 - val_auc: 0.7949\n",
      "Epoch 123/200\n",
      "50/50 [==============================] - 0s 2ms/step - loss: 0.5077 - accuracy: 0.7308 - auc: 0.7916 - val_loss: 0.5656 - val_accuracy: 0.6911 - val_auc: 0.7685\n",
      "Epoch 124/200\n",
      "50/50 [==============================] - 0s 2ms/step - loss: 0.4932 - accuracy: 0.7545 - auc: 0.8284 - val_loss: 0.5652 - val_accuracy: 0.7073 - val_auc: 0.7701\n",
      "Epoch 125/200\n",
      "50/50 [==============================] - 0s 2ms/step - loss: 0.5076 - accuracy: 0.7374 - auc: 0.7946 - val_loss: 0.6231 - val_accuracy: 0.6179 - val_auc: 0.7862\n",
      "Epoch 126/200\n",
      "50/50 [==============================] - 0s 2ms/step - loss: 0.5405 - accuracy: 0.7381 - auc: 0.7794 - val_loss: 0.5603 - val_accuracy: 0.6992 - val_auc: 0.7778\n",
      "Epoch 127/200\n",
      "50/50 [==============================] - 0s 2ms/step - loss: 0.4798 - accuracy: 0.7522 - auc: 0.8225 - val_loss: 0.6352 - val_accuracy: 0.6911 - val_auc: 0.7374\n",
      "Epoch 128/200\n",
      "50/50 [==============================] - 0s 2ms/step - loss: 0.5731 - accuracy: 0.6979 - auc: 0.7608 - val_loss: 0.5132 - val_accuracy: 0.7236 - val_auc: 0.8024\n",
      "Epoch 129/200\n",
      "50/50 [==============================] - 0s 2ms/step - loss: 0.5105 - accuracy: 0.7565 - auc: 0.7932 - val_loss: 0.5532 - val_accuracy: 0.7154 - val_auc: 0.7915\n",
      "Epoch 130/200\n",
      "50/50 [==============================] - 0s 2ms/step - loss: 0.5295 - accuracy: 0.7424 - auc: 0.7948 - val_loss: 0.5388 - val_accuracy: 0.6992 - val_auc: 0.7953\n",
      "Epoch 131/200\n",
      "50/50 [==============================] - 0s 2ms/step - loss: 0.4950 - accuracy: 0.7545 - auc: 0.7981 - val_loss: 0.5419 - val_accuracy: 0.7236 - val_auc: 0.7874\n",
      "Epoch 132/200\n",
      "50/50 [==============================] - 0s 2ms/step - loss: 0.5007 - accuracy: 0.7535 - auc: 0.8122 - val_loss: 0.5320 - val_accuracy: 0.6992 - val_auc: 0.7928\n",
      "Epoch 133/200\n",
      "50/50 [==============================] - 0s 2ms/step - loss: 0.4584 - accuracy: 0.7645 - auc: 0.8494 - val_loss: 0.6235 - val_accuracy: 0.6748 - val_auc: 0.7490\n",
      "Epoch 134/200\n",
      "50/50 [==============================] - 0s 2ms/step - loss: 0.5424 - accuracy: 0.6951 - auc: 0.7808 - val_loss: 0.6290 - val_accuracy: 0.6829 - val_auc: 0.7474\n",
      "Epoch 135/200\n",
      "50/50 [==============================] - 0s 3ms/step - loss: 0.4824 - accuracy: 0.7628 - auc: 0.8198 - val_loss: 0.5391 - val_accuracy: 0.7236 - val_auc: 0.7869\n",
      "Epoch 136/200\n",
      "50/50 [==============================] - 0s 2ms/step - loss: 0.4894 - accuracy: 0.7590 - auc: 0.8177 - val_loss: 0.5814 - val_accuracy: 0.7073 - val_auc: 0.7640\n",
      "Epoch 137/200\n",
      "50/50 [==============================] - 0s 2ms/step - loss: 0.4793 - accuracy: 0.7769 - auc: 0.8146 - val_loss: 0.5613 - val_accuracy: 0.6667 - val_auc: 0.7801\n",
      "Epoch 138/200\n",
      "50/50 [==============================] - 0s 2ms/step - loss: 0.4982 - accuracy: 0.7432 - auc: 0.8190 - val_loss: 0.5548 - val_accuracy: 0.7073 - val_auc: 0.7781\n",
      "Epoch 139/200\n",
      "50/50 [==============================] - 0s 2ms/step - loss: 0.5150 - accuracy: 0.7624 - auc: 0.8061 - val_loss: 0.6034 - val_accuracy: 0.6992 - val_auc: 0.7663\n",
      "Epoch 140/200\n",
      "50/50 [==============================] - 0s 2ms/step - loss: 0.5212 - accuracy: 0.7730 - auc: 0.7779 - val_loss: 0.5534 - val_accuracy: 0.7236 - val_auc: 0.7758\n",
      "Epoch 141/200\n",
      "50/50 [==============================] - 0s 2ms/step - loss: 0.4778 - accuracy: 0.7658 - auc: 0.7974 - val_loss: 0.5387 - val_accuracy: 0.6992 - val_auc: 0.7862\n"
     ]
    },
    {
     "name": "stdout",
     "output_type": "stream",
     "text": [
      "Epoch 142/200\n",
      "50/50 [==============================] - 0s 2ms/step - loss: 0.5311 - accuracy: 0.7484 - auc: 0.7794 - val_loss: 0.5432 - val_accuracy: 0.6992 - val_auc: 0.7793\n",
      "Epoch 143/200\n",
      "50/50 [==============================] - 0s 2ms/step - loss: 0.4840 - accuracy: 0.7705 - auc: 0.8121 - val_loss: 0.5353 - val_accuracy: 0.7317 - val_auc: 0.7960\n",
      "Epoch 144/200\n",
      "50/50 [==============================] - 0s 2ms/step - loss: 0.5129 - accuracy: 0.7476 - auc: 0.7848 - val_loss: 0.5306 - val_accuracy: 0.7154 - val_auc: 0.8071\n",
      "Epoch 145/200\n",
      "50/50 [==============================] - 0s 2ms/step - loss: 0.4772 - accuracy: 0.7511 - auc: 0.8272 - val_loss: 0.5466 - val_accuracy: 0.7236 - val_auc: 0.7757\n",
      "Epoch 146/200\n",
      "50/50 [==============================] - 0s 2ms/step - loss: 0.4641 - accuracy: 0.7619 - auc: 0.8425 - val_loss: 0.5570 - val_accuracy: 0.7154 - val_auc: 0.7797\n",
      "Epoch 147/200\n",
      "50/50 [==============================] - 0s 2ms/step - loss: 0.5183 - accuracy: 0.7087 - auc: 0.7925 - val_loss: 0.5720 - val_accuracy: 0.7154 - val_auc: 0.7635\n",
      "Epoch 148/200\n",
      "50/50 [==============================] - 0s 2ms/step - loss: 0.4882 - accuracy: 0.7482 - auc: 0.8047 - val_loss: 0.5114 - val_accuracy: 0.7317 - val_auc: 0.8200\n",
      "Epoch 149/200\n",
      "50/50 [==============================] - 0s 2ms/step - loss: 0.4662 - accuracy: 0.7633 - auc: 0.8371 - val_loss: 0.5546 - val_accuracy: 0.6992 - val_auc: 0.7714\n",
      "Epoch 150/200\n",
      "50/50 [==============================] - 0s 2ms/step - loss: 0.5160 - accuracy: 0.7217 - auc: 0.7900 - val_loss: 0.5139 - val_accuracy: 0.7317 - val_auc: 0.8161\n",
      "Epoch 151/200\n",
      "50/50 [==============================] - 0s 2ms/step - loss: 0.4839 - accuracy: 0.7546 - auc: 0.8205 - val_loss: 0.5349 - val_accuracy: 0.6992 - val_auc: 0.8037\n",
      "Epoch 152/200\n",
      "50/50 [==============================] - 0s 2ms/step - loss: 0.4569 - accuracy: 0.7951 - auc: 0.8479 - val_loss: 0.5281 - val_accuracy: 0.7236 - val_auc: 0.8022\n",
      "Epoch 153/200\n",
      "50/50 [==============================] - 0s 2ms/step - loss: 0.5068 - accuracy: 0.7502 - auc: 0.8045 - val_loss: 0.5422 - val_accuracy: 0.7073 - val_auc: 0.7892\n",
      "Epoch 154/200\n",
      "50/50 [==============================] - 0s 2ms/step - loss: 0.4939 - accuracy: 0.7806 - auc: 0.7806 - val_loss: 0.5342 - val_accuracy: 0.7236 - val_auc: 0.7800\n",
      "Epoch 155/200\n",
      "50/50 [==============================] - 0s 2ms/step - loss: 0.4819 - accuracy: 0.7730 - auc: 0.8056 - val_loss: 0.5492 - val_accuracy: 0.7317 - val_auc: 0.7886\n",
      "Epoch 156/200\n",
      "50/50 [==============================] - 0s 2ms/step - loss: 0.5085 - accuracy: 0.7440 - auc: 0.7809 - val_loss: 0.5314 - val_accuracy: 0.7073 - val_auc: 0.7879\n",
      "Epoch 157/200\n",
      "50/50 [==============================] - 0s 2ms/step - loss: 0.4770 - accuracy: 0.7739 - auc: 0.8253 - val_loss: 0.5266 - val_accuracy: 0.6911 - val_auc: 0.8028\n",
      "Epoch 158/200\n",
      "50/50 [==============================] - 0s 2ms/step - loss: 0.4450 - accuracy: 0.7916 - auc: 0.8613 - val_loss: 0.6431 - val_accuracy: 0.6748 - val_auc: 0.7317\n",
      "Epoch 159/200\n",
      "50/50 [==============================] - 0s 2ms/step - loss: 0.4855 - accuracy: 0.7717 - auc: 0.8078 - val_loss: 0.5465 - val_accuracy: 0.6992 - val_auc: 0.7881\n",
      "Epoch 160/200\n",
      "50/50 [==============================] - 0s 2ms/step - loss: 0.4704 - accuracy: 0.7849 - auc: 0.8252 - val_loss: 0.5768 - val_accuracy: 0.6911 - val_auc: 0.7617\n",
      "Epoch 161/200\n",
      "50/50 [==============================] - 0s 2ms/step - loss: 0.4726 - accuracy: 0.7834 - auc: 0.8305 - val_loss: 0.5468 - val_accuracy: 0.6992 - val_auc: 0.7857\n",
      "Epoch 162/200\n",
      "50/50 [==============================] - 0s 2ms/step - loss: 0.4684 - accuracy: 0.7990 - auc: 0.8582 - val_loss: 0.6154 - val_accuracy: 0.7154 - val_auc: 0.7642\n",
      "Epoch 163/200\n",
      "50/50 [==============================] - 0s 2ms/step - loss: 0.4695 - accuracy: 0.7821 - auc: 0.8225 - val_loss: 0.5547 - val_accuracy: 0.7073 - val_auc: 0.7826\n",
      "Epoch 164/200\n",
      "50/50 [==============================] - 0s 2ms/step - loss: 0.4383 - accuracy: 0.7887 - auc: 0.8553 - val_loss: 0.5332 - val_accuracy: 0.7236 - val_auc: 0.8082\n",
      "Epoch 165/200\n",
      "50/50 [==============================] - 0s 2ms/step - loss: 0.5066 - accuracy: 0.7370 - auc: 0.7978 - val_loss: 0.5190 - val_accuracy: 0.7398 - val_auc: 0.8100\n",
      "Epoch 166/200\n",
      "50/50 [==============================] - 0s 2ms/step - loss: 0.4746 - accuracy: 0.7634 - auc: 0.8227 - val_loss: 0.5418 - val_accuracy: 0.7317 - val_auc: 0.7822\n",
      "Epoch 167/200\n",
      "50/50 [==============================] - 0s 2ms/step - loss: 0.5063 - accuracy: 0.7312 - auc: 0.8147 - val_loss: 0.5331 - val_accuracy: 0.7154 - val_auc: 0.7892\n",
      "Epoch 168/200\n",
      "50/50 [==============================] - 0s 2ms/step - loss: 0.5043 - accuracy: 0.7475 - auc: 0.8181 - val_loss: 0.5736 - val_accuracy: 0.6992 - val_auc: 0.7826\n",
      "Epoch 169/200\n",
      "50/50 [==============================] - 0s 2ms/step - loss: 0.5171 - accuracy: 0.7524 - auc: 0.8140 - val_loss: 0.5500 - val_accuracy: 0.7073 - val_auc: 0.8032\n",
      "Epoch 170/200\n",
      "50/50 [==============================] - 0s 2ms/step - loss: 0.4812 - accuracy: 0.7466 - auc: 0.8183 - val_loss: 0.6090 - val_accuracy: 0.6992 - val_auc: 0.7644\n",
      "Epoch 171/200\n",
      "50/50 [==============================] - 0s 2ms/step - loss: 0.5261 - accuracy: 0.7675 - auc: 0.7840 - val_loss: 0.5264 - val_accuracy: 0.7073 - val_auc: 0.8026\n",
      "Epoch 172/200\n",
      "50/50 [==============================] - 0s 2ms/step - loss: 0.4875 - accuracy: 0.7736 - auc: 0.8192 - val_loss: 0.5163 - val_accuracy: 0.7398 - val_auc: 0.8188\n",
      "Epoch 173/200\n",
      "50/50 [==============================] - 0s 2ms/step - loss: 0.5029 - accuracy: 0.7429 - auc: 0.8079 - val_loss: 0.5248 - val_accuracy: 0.7317 - val_auc: 0.8064\n",
      "Epoch 174/200\n",
      "50/50 [==============================] - 0s 2ms/step - loss: 0.4735 - accuracy: 0.7816 - auc: 0.8376 - val_loss: 0.5635 - val_accuracy: 0.7236 - val_auc: 0.7872\n",
      "Epoch 175/200\n",
      "50/50 [==============================] - 0s 3ms/step - loss: 0.4729 - accuracy: 0.7585 - auc: 0.8273 - val_loss: 0.5412 - val_accuracy: 0.6992 - val_auc: 0.7956\n",
      "Epoch 176/200\n",
      "50/50 [==============================] - 0s 2ms/step - loss: 0.4667 - accuracy: 0.7487 - auc: 0.8450 - val_loss: 0.6319 - val_accuracy: 0.7154 - val_auc: 0.7810\n",
      "Epoch 177/200\n",
      "50/50 [==============================] - 0s 2ms/step - loss: 0.5167 - accuracy: 0.7423 - auc: 0.7829 - val_loss: 0.5192 - val_accuracy: 0.7236 - val_auc: 0.8125\n",
      "Epoch 178/200\n",
      "50/50 [==============================] - 0s 2ms/step - loss: 0.4681 - accuracy: 0.7903 - auc: 0.8296 - val_loss: 0.5954 - val_accuracy: 0.7073 - val_auc: 0.7822\n",
      "Epoch 179/200\n",
      "50/50 [==============================] - 0s 2ms/step - loss: 0.4987 - accuracy: 0.7538 - auc: 0.8045 - val_loss: 0.5972 - val_accuracy: 0.6992 - val_auc: 0.7822\n",
      "Epoch 180/200\n",
      "50/50 [==============================] - 0s 2ms/step - loss: 0.4779 - accuracy: 0.7684 - auc: 0.8206 - val_loss: 0.6329 - val_accuracy: 0.6829 - val_auc: 0.7393\n",
      "Epoch 181/200\n",
      "50/50 [==============================] - 0s 2ms/step - loss: 0.4843 - accuracy: 0.7535 - auc: 0.8321 - val_loss: 0.5372 - val_accuracy: 0.6992 - val_auc: 0.8150\n",
      "Epoch 182/200\n",
      "50/50 [==============================] - 0s 2ms/step - loss: 0.5103 - accuracy: 0.7597 - auc: 0.8129 - val_loss: 0.5187 - val_accuracy: 0.7317 - val_auc: 0.8182\n",
      "Epoch 183/200\n",
      "50/50 [==============================] - 0s 2ms/step - loss: 0.4653 - accuracy: 0.7455 - auc: 0.8199 - val_loss: 0.5312 - val_accuracy: 0.7317 - val_auc: 0.8121\n",
      "Epoch 184/200\n",
      "50/50 [==============================] - 0s 2ms/step - loss: 0.4639 - accuracy: 0.7531 - auc: 0.8394 - val_loss: 0.5284 - val_accuracy: 0.7398 - val_auc: 0.8193\n",
      "Epoch 185/200\n",
      "50/50 [==============================] - 0s 2ms/step - loss: 0.4967 - accuracy: 0.7741 - auc: 0.8230 - val_loss: 0.5197 - val_accuracy: 0.7154 - val_auc: 0.8199\n",
      "Epoch 186/200\n",
      "50/50 [==============================] - 0s 2ms/step - loss: 0.4776 - accuracy: 0.7564 - auc: 0.8139 - val_loss: 0.5226 - val_accuracy: 0.7073 - val_auc: 0.7956\n",
      "Epoch 187/200\n",
      "50/50 [==============================] - 0s 2ms/step - loss: 0.4623 - accuracy: 0.7758 - auc: 0.8341 - val_loss: 0.5085 - val_accuracy: 0.7317 - val_auc: 0.8164\n",
      "Epoch 188/200\n",
      "50/50 [==============================] - 0s 2ms/step - loss: 0.4704 - accuracy: 0.7550 - auc: 0.8357 - val_loss: 0.5871 - val_accuracy: 0.7154 - val_auc: 0.7861\n"
     ]
    },
    {
     "name": "stdout",
     "output_type": "stream",
     "text": [
      "Epoch 189/200\n",
      "50/50 [==============================] - 0s 2ms/step - loss: 0.4661 - accuracy: 0.7667 - auc: 0.8433 - val_loss: 0.5343 - val_accuracy: 0.7154 - val_auc: 0.8101\n",
      "Epoch 190/200\n",
      "50/50 [==============================] - 0s 2ms/step - loss: 0.4742 - accuracy: 0.7547 - auc: 0.8224 - val_loss: 0.5515 - val_accuracy: 0.7317 - val_auc: 0.7910\n",
      "Epoch 191/200\n",
      "50/50 [==============================] - 0s 2ms/step - loss: 0.4686 - accuracy: 0.7665 - auc: 0.8430 - val_loss: 0.5427 - val_accuracy: 0.7317 - val_auc: 0.8110\n",
      "Epoch 192/200\n",
      "50/50 [==============================] - 0s 2ms/step - loss: 0.4349 - accuracy: 0.8126 - auc: 0.8669 - val_loss: 0.5241 - val_accuracy: 0.7236 - val_auc: 0.8025\n",
      "Epoch 193/200\n",
      "50/50 [==============================] - 0s 2ms/step - loss: 0.4596 - accuracy: 0.7846 - auc: 0.8407 - val_loss: 0.5260 - val_accuracy: 0.6992 - val_auc: 0.8010\n",
      "Epoch 194/200\n",
      "50/50 [==============================] - 0s 2ms/step - loss: 0.4880 - accuracy: 0.7396 - auc: 0.8097 - val_loss: 0.5268 - val_accuracy: 0.7236 - val_auc: 0.8083\n",
      "Epoch 195/200\n",
      "50/50 [==============================] - 0s 2ms/step - loss: 0.4747 - accuracy: 0.7818 - auc: 0.8394 - val_loss: 0.5929 - val_accuracy: 0.6992 - val_auc: 0.7787\n",
      "Epoch 196/200\n",
      "50/50 [==============================] - 0s 2ms/step - loss: 0.4870 - accuracy: 0.7578 - auc: 0.8201 - val_loss: 0.5755 - val_accuracy: 0.6992 - val_auc: 0.7814\n",
      "Epoch 197/200\n",
      "50/50 [==============================] - 0s 2ms/step - loss: 0.4708 - accuracy: 0.7846 - auc: 0.8418 - val_loss: 0.6403 - val_accuracy: 0.6911 - val_auc: 0.7785\n",
      "Epoch 198/200\n",
      "50/50 [==============================] - 0s 2ms/step - loss: 0.4589 - accuracy: 0.7830 - auc: 0.8325 - val_loss: 0.5434 - val_accuracy: 0.6992 - val_auc: 0.8051\n",
      "Epoch 199/200\n",
      "50/50 [==============================] - 0s 2ms/step - loss: 0.5023 - accuracy: 0.7493 - auc: 0.8259 - val_loss: 0.5303 - val_accuracy: 0.7480 - val_auc: 0.8289\n",
      "Epoch 200/200\n",
      "50/50 [==============================] - 0s 2ms/step - loss: 0.5495 - accuracy: 0.7354 - auc: 0.7717 - val_loss: 0.5242 - val_accuracy: 0.7398 - val_auc: 0.8186\n"
     ]
    }
   ],
   "source": [
    "history = model.fit(X_train, y_train, batch_size=10, epochs=200, validation_split=0.2)"
   ]
  },
  {
   "cell_type": "code",
   "execution_count": 11,
   "metadata": {},
   "outputs": [
    {
     "name": "stdout",
     "output_type": "stream",
     "text": [
      "dict_keys(['loss', 'accuracy', 'auc', 'val_loss', 'val_accuracy', 'val_auc'])\n"
     ]
    }
   ],
   "source": [
    "print(history.history.keys())"
   ]
  },
  {
   "cell_type": "code",
   "execution_count": 12,
   "metadata": {},
   "outputs": [
    {
     "name": "stdout",
     "output_type": "stream",
     "text": [
      "5/5 [==============================] - 0s 1ms/step - loss: 0.6784 - accuracy: 0.7013 - auc: 0.7242\n",
      "The neural network model achieves acc of 0.701, and auc of 0.724.\n"
     ]
    }
   ],
   "source": [
    "res_nn = model.evaluate(X_test, y_test)\n",
    "print('The neural network model achieves acc of {:.3f}, and auc of {:.3f}.'.format(res_nn[1],res_nn[2]))"
   ]
  },
  {
   "cell_type": "code",
   "execution_count": 13,
   "metadata": {},
   "outputs": [
    {
     "data": {
      "image/png": "[encoded data removed]",
      "text/plain": [
       "<Figure size 432x288 with 1 Axes>"
      ]
     },
     "metadata": {},
     "output_type": "display_data"
    }
   ],
   "source": [
    "# summarize history for accuracy\n",
    "plt.plot(history.history['auc'])\n",
    "plt.plot(history.history['val_auc'])\n",
    "plt.title('model AUC')\n",
    "plt.ylabel('AUC')\n",
    "plt.xlabel('epoch')\n",
    "plt.legend(['train', 'val'], loc='upper left')\n",
    "plt.show()"
   ]
  },
  {
   "cell_type": "code",
   "execution_count": 14,
   "metadata": {},
   "outputs": [
    {
     "data": {
      "image/png": "[encoded data removed]",
      "text/plain": [
       "<Figure size 432x288 with 1 Axes>"
      ]
     },
     "metadata": {},
     "output_type": "display_data"
    }
   ],
   "source": [
    "# summarize history for loss\n",
    "plt.plot(history.history['loss'])\n",
    "plt.plot(history.history['val_loss'])\n",
    "plt.title('model loss')\n",
    "plt.ylabel('loss')\n",
    "plt.xlabel('epoch')\n",
    "plt.legend(['train', 'val'], loc='upper left')\n",
    "plt.show()"
   ]
  },
  {
   "cell_type": "markdown",
   "metadata": {},
   "source": [
    "# Conclusion"
   ]
  },
  {
   "cell_type": "markdown",
   "metadata": {},
   "source": [
    "## Data visualization\n",
    "In the PCA figure, the positive class has a slight difference on average along the component 1 axis. However, the shift is not significant to split the data into two groups.\n",
    "\n",
    "In the t-SNE figure, there are 3 major clusters with both group of data, and the data samples in the same cluster have similar feature values. This could be caused by additional features, such as gender, race, which is not included in the dataset. Inside each cluster, the data belonging to one group do not completely overlap with the other group of data, which indicates that the data is separatable by further analysis."
   ]
  },
  {
   "cell_type": "markdown",
   "metadata": {},
   "source": [
    "## Feature selection\n",
    "According to both the correlation and importance value, we can see that the 2nd, 6th and 8th features  are the top 3 features contribute the most to the diabetes classification.\n",
    "- 2nd feature: Plasma glucose concentration a 2 hours in an oral glucose tolerance test\n",
    "- 6th feature: Body mass index (weight in kg/(height in m)^2)\n",
    "- 8th feature: Age (years)"
   ]
  },
  {
   "cell_type": "code",
   "execution_count": 20,
   "metadata": {},
   "outputs": [
    {
     "name": "stdout",
     "output_type": "stream",
     "text": [
      "The correlation coefficient between the features and class index: \n",
      "[0.22189815 0.4665814  0.06506836 0.07475223 0.13054795 0.29269466\n",
      " 0.17384407 0.23835598]\n",
      "The importances of each feature that contributes to the xgb classification: \n",
      "[0.05473172 0.34860444 0.08301385 0.07438435 0.07860086 0.15627448\n",
      " 0.06708726 0.13730296]\n"
     ]
    }
   ],
   "source": [
    "print('The correlation coefficient between the features and class index: \\n{}'.format(corr[0:-1,-1]))\n",
    "print('The importances of each feature that contributes to the xgb classification: \\n{}'.format(xgb_model.feature_importances_))"
   ]
  },
  {
   "cell_type": "markdown",
   "metadata": {},
   "source": [
    "## Classification\n",
    "The XGBoost model outperforms the neural network model in terms of both acc and auc. Because the number of positve patients is much less than negative samples, the auc metric is more important for this evaluation. "
   ]
  },
  {
   "cell_type": "code",
   "execution_count": 30,
   "metadata": {},
   "outputs": [
    {
     "name": "stdout",
     "output_type": "stream",
     "text": [
      "The XGBoost model achieves acc of 0.753, and auc of 0.833.\n",
      "The neural network model achieves acc of 0.701, and auc of 0.708.\n"
     ]
    }
   ],
   "source": [
    "print('The XGBoost model achieves acc of {:.3f}, and auc of {:.3f}.'.format(xgb_acc,xgb_model.best_score))\n",
    "print('The neural network model achieves acc of {:.3f}, and auc of {:.3f}.'.format(res_nn[1],res_nn[2]))"
   ]
  },
  {
   "cell_type": "code",
   "execution_count": null,
   "metadata": {},
   "outputs": [],
   "source": []
  }
 ],
 "metadata": {
  "kernelspec": {
   "display_name": "Python 3",
   "language": "python",
   "name": "python3"
  },
  "language_info": {
   "codemirror_mode": {
    "name": "ipython",
    "version": 3
   },
   "file_extension": ".py",
   "mimetype": "text/x-python",
   "name": "python",
   "nbconvert_exporter": "python",
   "pygments_lexer": "ipython3",
   "version": "3.6.5"
  }
 },
 "nbformat": 4,
 "nbformat_minor": 1
}
